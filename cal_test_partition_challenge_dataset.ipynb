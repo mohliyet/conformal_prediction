{
 "cells": [
  {
   "cell_type": "markdown",
   "metadata": {},
   "source": [
    "## Object Counts"
   ]
  },
  {
   "cell_type": "code",
   "execution_count": 11,
   "metadata": {},
   "outputs": [
    {
     "data": {
      "text/plain": [
       "{'4': 102,\n",
       " '10': 100,\n",
       " '8': 103,\n",
       " '3': 100,\n",
       " '9': 103,\n",
       " '1': 102,\n",
       " '5': 100,\n",
       " '2': 100,\n",
       " '7': 100,\n",
       " '0': 101,\n",
       " '6': 100}"
      ]
     },
     "execution_count": 11,
     "metadata": {},
     "output_type": "execute_result"
    }
   ],
   "source": [
    "import os\n",
    "\n",
    "source_annotations_folder = 'calibration_labels'\n",
    "class_counts = {}  # Initialize an empty dictionary to hold the class counts\n",
    "for file_name in os.listdir(source_annotations_folder):\n",
    "    file_path = os.path.join(source_annotations_folder, file_name) \n",
    "    with open(file_path, 'r') as file:\n",
    "        for line in file:\n",
    "            parts = line.strip().split()  # Split the line into parts\n",
    "            if parts:  # Check if the line is not empty\n",
    "                class_id = parts[0]  # The first part is the class ID\n",
    "                class_counts[class_id] = class_counts.get(class_id, 0) + 1\n",
    "class_counts\n"
   ]
  },
  {
   "cell_type": "code",
   "execution_count": 8,
   "metadata": {},
   "outputs": [
    {
     "name": "stdout",
     "output_type": "stream",
     "text": [
      "Error moving annotation file 0065.txt: [WinError 2] The system cannot find the file specified\n",
      "Image file 0065.jpg does not exist.\n",
      "Error moving annotation file 1582.txt: [WinError 2] The system cannot find the file specified\n",
      "Image file 1582.jpg does not exist.\n",
      "Error moving annotation file 2149.txt: [WinError 2] The system cannot find the file specified\n",
      "Image file 2149.jpg does not exist.\n",
      "Error moving annotation file 1784.txt: [WinError 2] The system cannot find the file specified\n",
      "Image file 1784.jpg does not exist.\n",
      "Error moving annotation file 2126.txt: [WinError 2] The system cannot find the file specified\n",
      "Image file 2126.jpg does not exist.\n",
      "Error moving annotation file 1177.txt: [WinError 2] The system cannot find the file specified\n",
      "Image file 1177.jpg does not exist.\n"
     ]
    }
   ],
   "source": [
    "import os\n",
    "import shutil\n",
    "import random\n",
    "\n",
    "def count_objects_per_class_with_filenames(source_annotations_folder):\n",
    "    class_counts = {}\n",
    "    class_files = {}\n",
    "    for file_name in os.listdir(source_annotations_folder):\n",
    "        file_path = os.path.join(source_annotations_folder, file_name)\n",
    "        with open(file_path, 'r') as file:\n",
    "            for line in file:\n",
    "                parts = line.strip().split()  # Split the line into parts\n",
    "                if parts:  # Check if the line is not empty\n",
    "                    class_id = parts[0]  # The first part is the class ID\n",
    "                    class_counts[class_id] = class_counts.get(class_id, 0) + 1\n",
    "                    class_files.setdefault(class_id, []).append(file_name)\n",
    "    return class_counts, class_files\n",
    "\n",
    "def move_files_for_calibration(source_annotations_folder, source_images_folder, calibration_annotations_folder, calibration_images_folder, num_objects=100):\n",
    "    # Check if source directories exist\n",
    "    for folder in [source_annotations_folder, source_images_folder]:\n",
    "        if not os.path.exists(folder):\n",
    "            print(f\"Source folder {folder} does not exist.\")\n",
    "            return\n",
    "\n",
    "    # Ensure calibration directories exist\n",
    "    for folder in [calibration_annotations_folder, calibration_images_folder]:\n",
    "        os.makedirs(folder, exist_ok=True)\n",
    "\n",
    "    class_counts, class_files = count_objects_per_class_with_filenames(source_annotations_folder)\n",
    "    for class_id, files in class_files.items():\n",
    "        if class_counts[class_id] >= num_objects:\n",
    "            selected_files = random.sample(files, num_objects)\n",
    "            for file_name in selected_files:\n",
    "                annotation_src = os.path.join(source_annotations_folder, file_name)\n",
    "                annotation_dst = os.path.join(calibration_annotations_folder, file_name)\n",
    "                try:\n",
    "                    shutil.move(annotation_src, annotation_dst)\n",
    "                except Exception as e:\n",
    "                    print(f\"Error moving annotation file {file_name}: {e}\")\n",
    "\n",
    "                image_file_name = file_name.rsplit('.', 1)[0] + '.jpg'\n",
    "                image_src = os.path.join(source_images_folder, image_file_name)\n",
    "                image_dst = os.path.join(calibration_images_folder, image_file_name)\n",
    "                if os.path.exists(image_src):\n",
    "                    try:\n",
    "                        shutil.move(image_src, image_dst)\n",
    "                    except Exception as e:\n",
    "                        print(f\"Error moving image file {image_file_name}: {e}\")\n",
    "                else:\n",
    "                    print(f\"Image file {image_file_name} does not exist.\")\n",
    "\n",
    "# Example usage\n",
    "source_annotations_folder = 'labels'\n",
    "source_images_folder = 'images'\n",
    "calibration_annotations_folder = 'calibration_labels'\n",
    "calibration_images_folder = 'calibration_images'\n",
    "move_files_for_calibration(source_annotations_folder, source_images_folder, calibration_annotations_folder, calibration_images_folder)"
   ]
  }
 ],
 "metadata": {
  "kernelspec": {
   "display_name": "detectron2",
   "language": "python",
   "name": "python3"
  },
  "language_info": {
   "codemirror_mode": {
    "name": "ipython",
    "version": 3
   },
   "file_extension": ".py",
   "mimetype": "text/x-python",
   "name": "python",
   "nbconvert_exporter": "python",
   "pygments_lexer": "ipython3",
   "version": "3.12.4"
  }
 },
 "nbformat": 4,
 "nbformat_minor": 2
}
